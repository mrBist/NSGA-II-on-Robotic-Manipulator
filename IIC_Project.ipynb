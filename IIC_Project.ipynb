{
 "cells": [
  {
   "cell_type": "code",
   "execution_count": 81,
   "metadata": {
    "colab": {},
    "colab_type": "code",
    "executionInfo": {
     "elapsed": 2891,
     "status": "ok",
     "timestamp": 1594985991112,
     "user": {
      "displayName": "AAKASH BIST",
      "photoUrl": "https://lh3.googleusercontent.com/a-/AOh14GjMwvl_WZO-QgNZIlUAGgb6YRCvjeWY2_J8lW0=s64",
      "userId": "03337911289694550485"
     },
     "user_tz": -330
    },
    "id": "zmB6t7l8LHI_"
   },
   "outputs": [],
   "source": [
    "import numpy as np\n",
    "import matplotlib.pyplot as plt\n",
    "import random\n",
    "import math\n",
    "import pylab\n",
    "%matplotlib inline\n",
    "from scipy.integrate import odeint"
   ]
  },
  {
   "cell_type": "code",
   "execution_count": 82,
   "metadata": {
    "colab": {},
    "colab_type": "code",
    "executionInfo": {
     "elapsed": 6625,
     "status": "ok",
     "timestamp": 1594985994859,
     "user": {
      "displayName": "AAKASH BIST",
      "photoUrl": "https://lh3.googleusercontent.com/a-/AOh14GjMwvl_WZO-QgNZIlUAGgb6YRCvjeWY2_J8lW0=s64",
      "userId": "03337911289694550485"
     },
     "user_tz": -330
    },
    "id": "BtMzoHvDwZgR"
   },
   "outputs": [],
   "source": [
    "#with pylab inline, make bigger images\n",
    "pylab.rcParams['figure.figsize'] = (10.0, 8.0)"
   ]
  },
  {
   "cell_type": "code",
   "execution_count": 83,
   "metadata": {
    "colab": {
     "base_uri": "https://localhost:8080/",
     "height": 53
    },
    "colab_type": "code",
    "executionInfo": {
     "elapsed": 6603,
     "status": "ok",
     "timestamp": 1594985994860,
     "user": {
      "displayName": "AAKASH BIST",
      "photoUrl": "https://lh3.googleusercontent.com/a-/AOh14GjMwvl_WZO-QgNZIlUAGgb6YRCvjeWY2_J8lW0=s64",
      "userId": "03337911289694550485"
     },
     "user_tz": -330
    },
    "id": "Mr4yRj3mwZ2y",
    "outputId": "4b03b796-b051-4d82-d7ea-c7fa78cb4f16"
   },
   "outputs": [
    {
     "data": {
      "application/vnd.google.colaboratory.intrinsic": {
       "type": "string"
      },
      "text/plain": [
       "'\\nPaper specifics\\nSampling Period = 10ms\\nSimulation Period = 2s\\nN = 200 (samples)\\nFor NSGA:\\n  Search ranges:\\n    Kp1,Kp2 : [0:350]\\n    Kv1,Kv2,Ki1,Ki2 : [0:50]\\n\\n  Population Size : 40\\n  Stopping Criterion : 200 generations\\n\\nManipulator:\\n  m1 = m2 = 0.1kg\\n  l1 = 0.8m \\n  l2 = 0.4m\\n  g = 9.81 m/s2\\n  torque constraint = [-1000,1000]\\n'"
      ]
     },
     "execution_count": 83,
     "metadata": {
      "tags": []
     },
     "output_type": "execute_result"
    }
   ],
   "source": [
    "\"\"\"\n",
    "Paper specifics\n",
    "Sampling Period = 10ms\n",
    "Simulation Period = 2s\n",
    "N = 200 (samples)\n",
    "For NSGA:\n",
    "  Search ranges:\n",
    "    Kp1,Kp2 : [0:350]\n",
    "    Kv1,Kv2,Ki1,Ki2 : [0:50]\n",
    "\n",
    "  Population Size : 40\n",
    "  Stopping Criterion : 200 generations\n",
    "\n",
    "Manipulator:\n",
    "  m1 = m2 = 0.1kg\n",
    "  l1 = 0.8m \n",
    "  l2 = 0.4m\n",
    "  g = 9.81 m/s2\n",
    "  torque constraint = [-1000,1000]\n",
    "\"\"\""
   ]
  },
  {
   "cell_type": "markdown",
   "metadata": {
    "colab_type": "text",
    "id": "1MRiOJwzPwoi"
   },
   "source": [
    "# **Trajectory equations**"
   ]
  },
  {
   "cell_type": "code",
   "execution_count": 84,
   "metadata": {
    "colab": {},
    "colab_type": "code",
    "executionInfo": {
     "elapsed": 6598,
     "status": "ok",
     "timestamp": 1594985994862,
     "user": {
      "displayName": "AAKASH BIST",
      "photoUrl": "https://lh3.googleusercontent.com/a-/AOh14GjMwvl_WZO-QgNZIlUAGgb6YRCvjeWY2_J8lW0=s64",
      "userId": "03337911289694550485"
     },
     "user_tz": -330
    },
    "id": "eu2x-X0M37Xc"
   },
   "outputs": [],
   "source": [
    "\"\"\"\n",
    "Utility funtions for theta_desired equations\n",
    "\"\"\"\n",
    "\n",
    "def solve_equation(A,B):\n",
    "  \"\"\"\n",
    "  Solves the equation of form AX = B\n",
    "  \"\"\"\n",
    "  return np.linalg.inv(A).dot(B)\n",
    "\n",
    "def get_time_interval():\n",
    "  \"\"\"\n",
    "  returns a list of discrete time values between a time interval\n",
    "  \"\"\"\n",
    "  x=0\n",
    "  time_interval = []\n",
    "  while True:\n",
    "   time_interval.append(x/200)\n",
    "   x+=4\n",
    "   if x==800:\n",
    "    break\n",
    "  time_interval.append(4)\n",
    "  return time_interval\n",
    "\n",
    "def get_theta_desired1(num):\n",
    "  \"\"\"\n",
    "  Equation identical to the one given in paper.\n",
    "  \"\"\"\n",
    "  value = 0.125*num**3 - 1.125*num**2 + 3*num - 1.5\n",
    "  return value\n",
    "\n",
    "def get_theta_desired2(num):\n",
    "  \"\"\"\n",
    "  Equation identical to the one given in paper.\n",
    "  \"\"\"\n",
    "  value = -0.5*num**3 + 4.5*num**2 - 12*num + 12\n",
    "  return value\n",
    "\n",
    "def get_theta_desired1_alt(num):\n",
    "  \"\"\"\n",
    "  Equation interpolated in 4-degree to get a better curve.\n",
    "  \"\"\"\n",
    "  value = 0.0234375*(num**4) - 0.15625*(num**3) + 0.09375*(num**2) + 0.75*num\n",
    "  return value\n",
    "\n",
    "def get_theta_desired2_alt(num):\n",
    "  \"\"\"\n",
    "  Equation interpolated in 4-degree to get a better curve.\n",
    "  \"\"\"\n",
    "  value = -0.1875*(num**4) + 1.75*(num**3) - 5.25*(num**2) + 6*num\n",
    "  return value\n",
    "\n",
    "def get_theta_dot_des1(num):\n",
    "\n",
    "  value = 0.09375*(num**3) - 0.46875*(num**2) + 0.1875*(num) + 0.75\n",
    "  return value\n",
    "\n",
    "def get_theta_dot_des2(num):\n",
    "\n",
    "  value = -0.75*(num**3) + 5.25*(num**2) - 10.5*(num) + 6\n",
    "  return value\n",
    "\n",
    "def get_theta_desired(time_interval,verbose = 'modified'):\n",
    "\n",
    "  theta_des1 = []\n",
    "  theta_des2 = []\n",
    "  theta_dot_des1 = []\n",
    "  theta_dot_des2 = []\n",
    "  for t in time_interval:\n",
    "    if verbose == 'original':\n",
    "      theta_des1.append(get_theta_desired1(t))\n",
    "      theta_des2.append(get_theta_desired2(t))\n",
    "    else:\n",
    "      theta_des1.append(get_theta_desired1_alt(t))\n",
    "      theta_des2.append(get_theta_desired2_alt(t))\n",
    "      theta_dot_des1.append(get_theta_dot_des1(t))\n",
    "      theta_dot_des2.append(get_theta_dot_des2(t))\n",
    "\n",
    "  return theta_des1, theta_des2, theta_dot_des1, theta_dot_des2\n"
   ]
  },
  {
   "cell_type": "code",
   "execution_count": 85,
   "metadata": {
    "colab": {
     "base_uri": "https://localhost:8080/",
     "height": 34
    },
    "colab_type": "code",
    "executionInfo": {
     "elapsed": 6587,
     "status": "ok",
     "timestamp": 1594985994864,
     "user": {
      "displayName": "AAKASH BIST",
      "photoUrl": "https://lh3.googleusercontent.com/a-/AOh14GjMwvl_WZO-QgNZIlUAGgb6YRCvjeWY2_J8lW0=s64",
      "userId": "03337911289694550485"
     },
     "user_tz": -330
    },
    "id": "6WtojLotetdQ",
    "outputId": "6d633513-16e3-4aaa-cca8-df525131c97b"
   },
   "outputs": [
    {
     "name": "stdout",
     "output_type": "stream",
     "text": [
      "[-1.5    3.    -1.125  0.125]\n"
     ]
    }
   ],
   "source": [
    "A = np.array([[1, 2, 4, 8], [1, 4, 16, 64], [0, 1, 4, 12],[0, 1, 8, 48]])\n",
    "B = np.array([1, 0.5, 0, 0])\n",
    "X = solve_equation(A,B)\n",
    "\n",
    "print(X)"
   ]
  },
  {
   "cell_type": "code",
   "execution_count": 86,
   "metadata": {
    "colab": {},
    "colab_type": "code",
    "executionInfo": {
     "elapsed": 6583,
     "status": "ok",
     "timestamp": 1594985994865,
     "user": {
      "displayName": "AAKASH BIST",
      "photoUrl": "https://lh3.googleusercontent.com/a-/AOh14GjMwvl_WZO-QgNZIlUAGgb6YRCvjeWY2_J8lW0=s64",
      "userId": "03337911289694550485"
     },
     "user_tz": -330
    },
    "id": "fvXOD2Y936xa"
   },
   "outputs": [],
   "source": [
    "#get desired theta values\n",
    "time_interval = get_time_interval()\n",
    "theta_des1, theta_des2, theta_dot_des1, theta_dot_des2 = get_theta_desired(time_interval)"
   ]
  },
  {
   "cell_type": "code",
   "execution_count": 87,
   "metadata": {
    "colab": {
     "base_uri": "https://localhost:8080/",
     "height": 530
    },
    "colab_type": "code",
    "executionInfo": {
     "elapsed": 6574,
     "status": "ok",
     "timestamp": 1594985994867,
     "user": {
      "displayName": "AAKASH BIST",
      "photoUrl": "https://lh3.googleusercontent.com/a-/AOh14GjMwvl_WZO-QgNZIlUAGgb6YRCvjeWY2_J8lW0=s64",
      "userId": "03337911289694550485"
     },
     "user_tz": -330
    },
    "id": "sMZlsxv98H8N",
    "outputId": "8ceb9119-4101-4e77-9915-25351d400e02"
   },
   "outputs": [
    {
     "name": "stderr",
     "output_type": "stream",
     "text": [
      "No handles with labels found to put in legend.\n"
     ]
    },
    {
     "data": {
      "image/png": "[encoded data removed]",
      "text/plain": [
       "<Figure size 720x576 with 1 Axes>"
      ]
     },
     "metadata": {
      "needs_background": "light",
      "tags": []
     },
     "output_type": "display_data"
    }
   ],
   "source": [
    "#plot desired trajectory\n",
    "plt.plot(time_interval, theta_des1, \"b-^\", )\n",
    "plt.plot(time_interval, theta_des2, \"r-h\", )\n",
    "plt.legend()\n",
    "plt.title('Theta_desired vs Time')\n",
    "plt.ylabel('position')\n",
    "plt.xlabel('time')\n",
    "plt.show()"
   ]
  },
  {
   "cell_type": "markdown",
   "metadata": {
    "colab_type": "text",
    "id": "Rh2erc6UO9ef"
   },
   "source": [
    "# PID"
   ]
  },
  {
   "cell_type": "code",
   "execution_count": 88,
   "metadata": {
    "colab": {
     "base_uri": "https://localhost:8080/",
     "height": 499
    },
    "colab_type": "code",
    "executionInfo": {
     "elapsed": 6564,
     "status": "ok",
     "timestamp": 1594985994868,
     "user": {
      "displayName": "AAKASH BIST",
      "photoUrl": "https://lh3.googleusercontent.com/a-/AOh14GjMwvl_WZO-QgNZIlUAGgb6YRCvjeWY2_J8lW0=s64",
      "userId": "03337911289694550485"
     },
     "user_tz": -330
    },
    "id": "u03Se6Tq8cdN",
    "outputId": "b3549ba1-184d-412c-dca1-04e958b0546b"
   },
   "outputs": [
    {
     "data": {
      "image/png": "[encoded data removed]",
      "text/plain": [
       "<Figure size 720x576 with 1 Axes>"
      ]
     },
     "metadata": {
      "needs_background": "light",
      "tags": []
     },
     "output_type": "display_data"
    }
   ],
   "source": [
    "# Initialization\n",
    "\n",
    "Fs = 100 # Sampling Frequency\n",
    "Tf = 10 # Final Time\n",
    "Ti = 0 # Initial Time\n",
    "Ts = 1 / Fs\n",
    "\n",
    "# Number of samples\n",
    "n_samples = math.floor(Tf / Ts) \n",
    "t = np.arange(Ti,Tf,Ts)\n",
    "\n",
    "# Parameters\n",
    "tau = 2\n",
    "Kp = 5\n",
    "Ki = 5\n",
    "Kd = 0.1\n",
    "\n",
    "# Step response\n",
    "m = np.ones(n_samples+1)\n",
    "m_cont = np.zeros(n_samples+1)\n",
    "\n",
    "y_open_loop = np.zeros(n_samples+1)\n",
    "y = np.zeros(n_samples+1)\n",
    "y_sp = 2*np.ones(n_samples+1) # Reference\n",
    "\n",
    "\n",
    "e = np.zeros(n_samples+1)\n",
    "int_e = np.zeros(n_samples+1)\n",
    "diff_e = np.zeros(n_samples+1)\n",
    "\n",
    "for i in range(0,n_samples):\n",
    "    y_open_loop[i+1] = (1 - (Ts/tau))*y_open_loop[i] + (Ts/tau)*m[i]\n",
    "    y[i+1] = (1 - (Ts/tau))*y[i] + (Ts/tau)*m_cont[i]\n",
    "    \n",
    "    e[i+1] = y_sp[i+1] - y[i+1] # Calculation of Error\n",
    "    int_e[i+1] = int_e[i] + Ts* e[i+1] # Calculation of Integral of Error\n",
    "    diff_e[i+1] = (e[i+1] - e[i]) /Ts # Calculation of Derivative of Error\n",
    "    m_cont[i+1] = Kp* e[i+1] + Ki * int_e[i+1] + Kd* diff_e[i+1] # Calculation of Controller Output\n",
    "    \n",
    "fig = plt.figure()\n",
    "ax = plt.subplot(111)\n",
    "ax.plot(t,y_open_loop[1:],'r-', label='Open Loop')\n",
    "ax.plot(t,y[1:], 'b-', label='Closed Loop')\n",
    "plt.title('Responses')\n",
    "ax.legend()\n",
    "plt.show()"
   ]
  },
  {
   "cell_type": "code",
   "execution_count": 113,
   "metadata": {
    "colab": {},
    "colab_type": "code",
    "executionInfo": {
     "elapsed": 1446,
     "status": "ok",
     "timestamp": 1594986400043,
     "user": {
      "displayName": "AAKASH BIST",
      "photoUrl": "https://lh3.googleusercontent.com/a-/AOh14GjMwvl_WZO-QgNZIlUAGgb6YRCvjeWY2_J8lW0=s64",
      "userId": "03337911289694550485"
     },
     "user_tz": -330
    },
    "id": "-rzWHD4HQKjA"
   },
   "outputs": [],
   "source": [
    "def solve_joint1(U,t,T1):\n",
    "  torque1 = T1\n",
    "  return [U[1],0.2140*U[1] - 0.1730*U[0] + 0.00265*torque1]\n",
    "\n",
    "def solve_joint2(U,t,T2):\n",
    "  torque2 = T2\n",
    "  return [U[1],-0.130321*U[1] - 0.00197844*U[0] + 0.00935089*torque2]\n",
    "\n",
    "def plant(torque1,torque2,error,velocity,time_interval,time_instant):\n",
    "  \"\"\"\n",
    "  Given the torque at an instant t, this functions returns theta and velocity at instant t+1. \n",
    "  \n",
    "  (x1,x2,x3,x4) = (theta1 - theta_des1, theta_dot1 - theta_dot_des1,theta2 - theta_des2, theta_dot2 - theta_dot_des2)\n",
    "  \n",
    "  \"\"\"\n",
    "  U1 = [error[0][time_instant-1], velocity[0][time_instant-1]]\n",
    "  U2 = [error[1][time_instant-1], velocity[1][time_instant-1]]\n",
    "  t = np.linspace(time_interval[time_instant-1], time_interval[time_instant],2)\n",
    "  out1 = odeint(solve_joint1, U1, t, args=(torque1,))\n",
    "  out2 = odeint(solve_joint2, U2, t, args=(torque2,))\n",
    "  # print(\"U1 : \", U1)\n",
    "  # print(\"U2 : \", U2)\n",
    "  # print(\"ode1 : \", out1)\n",
    "  # print(\"ode2 : \", out1[:,0])\n",
    "  error[0][time_instant] = out1[:,0][1]\n",
    "  error[1][time_instant] = out2[:,0][1]\n",
    "  return error[0][time_instant],error[1][time_instant]\n",
    "\n",
    "def pid(solution,theta_des1,theta_des2,theta_dot_des1,theta_dot_des2,time_interval):\n",
    "    \"\"\"\n",
    "    Inputs:\n",
    "        solution : 2-D list containing values of PID params : [[Kp1 Kv1 Ki1] , [Kp2 Kv2 Ki2]]\n",
    "        theta_des1, theta_des2 :  okalist of final theta values at a given time instant.\n",
    "        theta_dot_des1, theta_dot_des2 : list of velocities at a given time instant \n",
    "    Outputs:\n",
    "        Plant Dyanmics. (numpy array) Note that it is in discrete domain\n",
    "                                      Length: floor((Tf- Ti)*Fs)\n",
    "    \"\"\"\n",
    "    theta_des = np.vstack((theta_des1,theta_des2))\n",
    "    theta_dot_des = np.vstack((theta_dot_des1,theta_dot_des2))\n",
    "    Kp,Kv,Ki = [],[],[]\n",
    "    for i in range(2):\n",
    "      Kp.append(solution[i][0])\n",
    "      Kv.append(solution[i][1])\n",
    "      Ki.append(solution[i][2])\n",
    "    \n",
    "    Ts = 0.01 #10ms\n",
    "    n = 200 # number of samples in the time interval \n",
    "    T = 1\n",
    "    theta = np.zeros((2,n+1))\n",
    "    error = np.zeros((2,n+1))\n",
    "    velocity = np.zeros((2,n+1))\n",
    "    torque = np.zeros((2,n+1))   \n",
    "    error[0][0] = -1\n",
    "    error[1][0] = -1\n",
    "\n",
    "    for j in range(1,n):\n",
    "      error[0][j],error[1][j] = plant(torque[0][j-1],torque[1][j-1],error,velocity,time_interval,j)\n",
    "\n",
    "      for i in range(2):\n",
    "        theta[i][j] = error[i][j]+theta_des[i][j]\n",
    "        velocity[i][j] = (theta_des[i][j] - theta_des[i][j-1] - theta[i][j] + theta[i][j-1])/T\n",
    "        torque[i][j] = (Kp[i] + 0.5*Ts*Ki[i])*error[i][j] - (Kp[i] - 0.5*Ts*Ki[i])*error[i][j-1] + (Kv[i])*(velocity[i][j] + velocity[i][j-1])\n",
    "        # print(\"theta : \",theta[i][j],\"velocity: \",velocity[i][j],\"torque : \", torque[i][j] )\n",
    "\n",
    "    return theta,torque,velocity"
   ]
  },
  {
   "cell_type": "code",
   "execution_count": 90,
   "metadata": {
    "colab": {
     "base_uri": "https://localhost:8080/",
     "height": 530
    },
    "colab_type": "code",
    "executionInfo": {
     "elapsed": 6552,
     "status": "ok",
     "timestamp": 1594985994871,
     "user": {
      "displayName": "AAKASH BIST",
      "photoUrl": "https://lh3.googleusercontent.com/a-/AOh14GjMwvl_WZO-QgNZIlUAGgb6YRCvjeWY2_J8lW0=s64",
      "userId": "03337911289694550485"
     },
     "user_tz": -330
    },
    "id": "KdjmYpW_weUi",
    "outputId": "5a068845-06ea-4fa0-a9e2-32804d47cb2e"
   },
   "outputs": [
    {
     "name": "stderr",
     "output_type": "stream",
     "text": [
      "No handles with labels found to put in legend.\n"
     ]
    },
    {
     "data": {
      "image/png": "[encoded data removed]",
      "text/plain": [
       "<Figure size 720x576 with 1 Axes>"
      ]
     },
     "metadata": {
      "needs_background": "light",
      "tags": []
     },
     "output_type": "display_data"
    }
   ],
   "source": [
    "U1 = [-1, 0]\n",
    "U2 = [-1, 0]\n",
    "t = np.linspace(0,4,200)\n",
    "out1 = odeint(solve_joint1, U1, t, args=(1,))\n",
    "out2 = odeint(solve_joint2, U2, t,args=(1,))\n",
    "\n",
    "plt.plot(t, out1[:,1], \"b-^\", )\n",
    "plt.plot(t, out2[:,1], \"r-h\", )\n",
    "plt.legend()\n",
    "plt.title('Joints movement vs Time')\n",
    "plt.ylabel('position')\n",
    "plt.xlabel('time')\n",
    "plt.show()"
   ]
  },
  {
   "cell_type": "markdown",
   "metadata": {
    "colab_type": "text",
    "id": "LQkmj6S8yR4h"
   },
   "source": [
    "# **NSGA - II**"
   ]
  },
  {
   "cell_type": "code",
   "execution_count": 91,
   "metadata": {
    "colab": {},
    "colab_type": "code",
    "executionInfo": {
     "elapsed": 6549,
     "status": "ok",
     "timestamp": 1594985994872,
     "user": {
      "displayName": "AAKASH BIST",
      "photoUrl": "https://lh3.googleusercontent.com/a-/AOh14GjMwvl_WZO-QgNZIlUAGgb6YRCvjeWY2_J8lW0=s64",
      "userId": "03337911289694550485"
     },
     "user_tz": -330
    },
    "id": "b8nhlATjyKXL"
   },
   "outputs": [],
   "source": [
    "pop_size = 40\n",
    "max_gen = 30\n",
    "Kp_range = 350\n",
    "Kvi_range = 50"
   ]
  },
  {
   "cell_type": "code",
   "execution_count": 92,
   "metadata": {
    "colab": {},
    "colab_type": "code",
    "executionInfo": {
     "elapsed": 6544,
     "status": "ok",
     "timestamp": 1594985994873,
     "user": {
      "displayName": "AAKASH BIST",
      "photoUrl": "https://lh3.googleusercontent.com/a-/AOh14GjMwvl_WZO-QgNZIlUAGgb6YRCvjeWY2_J8lW0=s64",
      "userId": "03337911289694550485"
     },
     "user_tz": -330
    },
    "id": "-1vqRhmUyP5O"
   },
   "outputs": [],
   "source": [
    "def GenerateIndividual():\n",
    "  \"\"\"\n",
    "  This generates a individual of the population with random values within the range\n",
    "  output : 2d - List : [[Kp1 Kv1 Ki1] , [Kp2 Kv2 Ki2]]\n",
    "  \"\"\"\n",
    "  individual = [[None for j in range(3)] for i in range(2)]\n",
    "\n",
    "  for i in range(2):\n",
    "    for j in range(3):\n",
    "      if j == 0:\n",
    "        individual[i][j] = random.uniform(0,Kp_range)\n",
    "      else:  \n",
    "        individual[i][j] = random.uniform(0,Kvi_range)\n",
    "\n",
    "  return individual\n",
    "\n",
    "def initPop(pop_size):\n",
    "  \"\"\"\n",
    "  Input : population size\n",
    "  Output : list of required number of individuals in the population\n",
    "  \"\"\"\n",
    "  assert pop_size > 0\n",
    "\n",
    "  population = []\n",
    "  for p in range(pop_size):\n",
    "    indiv = GenerateIndividual()\n",
    "    population.append(indiv)\n",
    "  \n",
    "  return population"
   ]
  },
  {
   "cell_type": "code",
   "execution_count": 103,
   "metadata": {
    "colab": {},
    "colab_type": "code",
    "executionInfo": {
     "elapsed": 1611,
     "status": "ok",
     "timestamp": 1594986158012,
     "user": {
      "displayName": "AAKASH BIST",
      "photoUrl": "https://lh3.googleusercontent.com/a-/AOh14GjMwvl_WZO-QgNZIlUAGgb6YRCvjeWY2_J8lW0=s64",
      "userId": "03337911289694550485"
     },
     "user_tz": -330
    },
    "id": "OYVQdO8mJOpe"
   },
   "outputs": [],
   "source": [
    "def get_fitness(solution,flag = True):\n",
    "\n",
    "  theta,torque,veloctiy = pid(solution,theta_des1,theta_des2,theta_dot_des1,theta_dot_des2,time_interval)\n",
    "\n",
    "  if flag:\n",
    "    fitness = obj_fun1(theta[0],theta[1],theta_des1,theta_des2)\n",
    "  else:\n",
    "    fitness = obj_fun2(torque[0],torque[1])\n",
    "\n",
    "  return fitness\n",
    "\n",
    "def obj_fun1(theta1,theta2,theta_des1,theta_des2):\n",
    "  \"\"\"\n",
    "  Returns the first fitness value\n",
    "  \"\"\"\n",
    "  sum_theta1 = 0.0\n",
    "  for i in range(1,len(theta1)):\n",
    "    val = abs(theta1[i]-theta_des1[i])\n",
    "    sum_theta1+=val\n",
    "\n",
    "  sum_theta2 = 0.0\n",
    "  for i in range(1,len(theta2)):\n",
    "    val = abs(theta2[i]-theta_des2[i])\n",
    "    sum_theta2+=val\n",
    "\n",
    "  fitness1 = sum_theta1 + sum_theta2 \n",
    "\n",
    "  return fitness1\n",
    "\n",
    "def obj_fun2(tau1,tau2):\n",
    "  \"\"\"\n",
    "  Returns the second fitness value\n",
    "  \"\"\"\n",
    "  sum_tau1 = 0.0\n",
    "  for i in range(1,len(tau1)):\n",
    "    val = abs(tau1[i] - tau1[i-1])\n",
    "    sum_tau1+=val\n",
    "\n",
    "  sum_tau2 = 0.0\n",
    "  for i in range(1,len(tau2)):\n",
    "    val = abs(tau2[i] - tau2[i-1])\n",
    "    sum_tau2+=val\n",
    "\n",
    "  fitness2 = sum_tau1 + sum_tau2\n",
    "\n",
    "  return fitness2\n"
   ]
  },
  {
   "cell_type": "code",
   "execution_count": 104,
   "metadata": {
    "colab": {
     "base_uri": "https://localhost:8080/",
     "height": 52
    },
    "colab_type": "code",
    "executionInfo": {
     "elapsed": 1382,
     "status": "ok",
     "timestamp": 1594986158015,
     "user": {
      "displayName": "AAKASH BIST",
      "photoUrl": "https://lh3.googleusercontent.com/a-/AOh14GjMwvl_WZO-QgNZIlUAGgb6YRCvjeWY2_J8lW0=s64",
      "userId": "03337911289694550485"
     },
     "user_tz": -330
    },
    "id": "FE-Hd6D_0S4B",
    "outputId": "ed9fe861-112f-4db7-d7e0-0803d57fc94f"
   },
   "outputs": [
    {
     "data": {
      "text/plain": [
       "[[289.5096978698099, 10.638155758808631, 47.12597218005898],\n",
       " [172.87190085629442, 19.87935767209953, 30.858233873422826]]"
      ]
     },
     "execution_count": 104,
     "metadata": {
      "tags": []
     },
     "output_type": "execute_result"
    }
   ],
   "source": [
    "#check random individual\n",
    "random.seed(111)\n",
    "ind = GenerateIndividual()\n",
    "ind"
   ]
  },
  {
   "cell_type": "code",
   "execution_count": 105,
   "metadata": {
    "colab": {},
    "colab_type": "code",
    "executionInfo": {
     "elapsed": 951,
     "status": "ok",
     "timestamp": 1594986158019,
     "user": {
      "displayName": "AAKASH BIST",
      "photoUrl": "https://lh3.googleusercontent.com/a-/AOh14GjMwvl_WZO-QgNZIlUAGgb6YRCvjeWY2_J8lW0=s64",
      "userId": "03337911289694550485"
     },
     "user_tz": -330
    },
    "id": "1QM1YNcNDs79"
   },
   "outputs": [],
   "source": [
    "def Non_dominated_sorting(f1_values,f2_values):\n",
    "  \"\"\"\n",
    "  Non dominated sorting of population based on values of two objective fundtion\n",
    "  Input : f1_values is the list of objective1 fitness score of each individual in the population\n",
    "          f2_values is the list of objective1 fitness score of each individual in the population\n",
    "  Note : Here the index of f1_values and f2_values correspond to the location of individual in original solution\n",
    "  Output : Sorted indices of solution based on Non domination\n",
    "\n",
    "  Note: We will be using the following parameters in the algo:\n",
    "        Sp : 2D list that stores the set of solution this individual p is dominating.\n",
    "        np : Number of solution that dominate this individual p. \n",
    "        rank : store the rank of each solution\n",
    "        front: 2D list that store the solution belonging to each front\n",
    "\n",
    "  \"\"\"\n",
    "  pop_size = len(f1_values)\n",
    "  S = [[] for i in range(pop_size)]\n",
    "  n = [0 for i in range(pop_size)]\n",
    "  rank = [0 for i in range(pop_size)]\n",
    "  fronts = [[]]\n",
    "\n",
    "  #the code below gives the non dominated front\n",
    "  for p in range(pop_size):\n",
    "    for q in range(pop_size):\n",
    "      if(p == q): \n",
    "        continue\n",
    "\n",
    "      if((f1_values[p] > f1_values[q] and f2_values[p] > f2_values[q]) or (f1_values[p] >= f1_values[q] and f2_values[p] > f2_values[q]) or (f1_values[p] > f1_values[q] and f2_values[p] >= f2_values[q])):\n",
    "        S[p].append(q)\n",
    "      elif((f1_values[p] < f1_values[q] and f2_values[p] < f2_values[q]) or (f1_values[p] <= f1_values[q] and f2_values[p] < f2_values[q]) or (f1_values[p] < f1_values[q] and f2_values[p] <= f2_values[q])):\n",
    "        n[p]+=1\n",
    "\n",
    "    if n[p] == 0: # i.e. p in nondominated\n",
    "      rank[p] = 0\n",
    "      if p not in fronts[0]:\n",
    "        fronts[0].append(p) #append to the first front\n",
    "\n",
    "  #calculating the other fronts to meet population size requirements  \n",
    "  ind = 0\n",
    "  \n",
    "  while len(fronts[ind]) != 0:\n",
    "    queue = []\n",
    "    for p in fronts[ind]:\n",
    "      for q in S[p]:\n",
    "        n[q]-=1\n",
    "        if n[q] == 0:\n",
    "          queue.append(q)\n",
    "          rank[q] = ind+1\n",
    "    ind+=1\n",
    "    fronts.append(queue)\n",
    "  \n",
    "  del(fronts[len(fronts)-1]) #remove the empty list from the end\n",
    "  return fronts\n",
    "\n",
    "def get_sorted(front,values):\n",
    "  \"\"\"\n",
    "  Input : \n",
    "      front : population\n",
    "      values : value wrt which the population will be sorted\n",
    "  Returns sorted front according to the fitness values.\n",
    "  \"\"\"\n",
    "  sorted_front = []\n",
    "  front_arr = np.array(front)\n",
    "  val_arr = np.array(values)\n",
    "  while len(sorted_front)!=len(front):\n",
    "    if np.argmin(val_arr) in front_arr:\n",
    "      sorted_front.append(np.argmin(val_arr))\n",
    "    val_arr[np.argmin(val_arr)] = np.inf\n",
    "  return sorted_front\n",
    "\n",
    "def crowding_dist(front,f1_values,f2_values):\n",
    "  \"\"\"\n",
    "  Calculates the crowding distance of each individual\n",
    "  Input : front is the individuals belonging to a given front\n",
    "          f1_values and f2_values are the respective firness value of each individual\n",
    "  Ouput : list of crowding distances of each individual\n",
    "  Note : crowding distance is how close the given solution is to its neighbouring solutions\n",
    "          in the same front. We will select individuals with higher crowding distance for diversity.\n",
    "  \"\"\"\n",
    "  n = len(front)\n",
    "  distances = [0 for i in range(n)]\n",
    "  distances[0] = np.inf\n",
    "  distances[n-1] = np.inf\n",
    "\n",
    "  sorted_f1 = get_sorted(front,f1_values) \n",
    "  sorted_f2 = get_sorted(front,f2_values)\n",
    "  \n",
    "  for i in range(1,n-1):\n",
    "    if i == n-2:\n",
    "      distances[i] = distances[i]+(f1_values[sorted_f1[i+1]] - f1_values[sorted_f1[i-1]])/(max(f1_values)-min(f1_values))\n",
    "    else:  \n",
    "      distances[i] = distances[i]+(f1_values[sorted_f1[i+1]] - f1_values[sorted_f1[i-1]])/(max(f1_values)-min(f1_values))\n",
    "\n",
    "  for i in range(1,n-1):\n",
    "    distances[i] = distances[i]+(f2_values[sorted_f2[i+1]] - f2_values[sorted_f2[i-1]])/(max(f2_values)-min(f2_values))\n",
    "\n",
    "  return distances\n",
    " \n",
    "   \n",
    "def crossover(parent1,parent2):\n",
    "  \"\"\"\n",
    "  Creates an offspring by randomly selecting genes from parents.\n",
    "  Mutation is done to  further increase diversity.\n",
    "  Input : Two random individuals from population\n",
    "  Output : Offspring\n",
    "  \"\"\"\n",
    "  threshold = 0.25\n",
    "  \n",
    "  if random.random() > 0.5:\n",
    "    offspring = parent1\n",
    "  else:\n",
    "    offspring = parent2\n",
    "\n",
    "  if random.random() > threshold:\n",
    "\n",
    "    if random.random() > 0.5:\n",
    "      offspring[0][0] = parent1[0][0]\n",
    "      offspring[1][0] = parent2[1][0]\n",
    "\n",
    "      for i in range(1,3):\n",
    "        offspring[0][i] = parent1[0][i]\n",
    "        offspring[1][i] = parent2[1][i]\n",
    "    else:\n",
    "      offspring[0][0] = parent2[0][0]\n",
    "      offspring[1][0] = parent1[1][0]\n",
    "\n",
    "      for i in range(1,3):\n",
    "        offspring[0][i] = parent2[0][i]\n",
    "        offspring[1][i] = parent1[1][i]\n",
    "\n",
    "  offspring = mutation(offspring)\n",
    "  \n",
    "  return offspring\n",
    "\n",
    "def mutation(indiv):\n",
    "  \"\"\"\n",
    "  Each of the genes of an individual gets modified based on the probability threshold set.\n",
    "  \"\"\"\n",
    "  threshold = 0.08 #probability that each gene gets mutated is 8%.\n",
    "\n",
    "  for i in range(2):\n",
    "    for j in range(3):\n",
    "      if random.random() <= threshold:\n",
    "        val = random.uniform(-1,1)\n",
    "        indiv[i][j]+=val\n",
    "\n",
    "  return indiv\n",
    "\n"
   ]
  },
  {
   "cell_type": "code",
   "execution_count": 114,
   "metadata": {
    "colab": {
     "base_uri": "https://localhost:8080/",
     "height": 72
    },
    "colab_type": "code",
    "executionInfo": {
     "elapsed": 7997,
     "status": "ok",
     "timestamp": 1594986415432,
     "user": {
      "displayName": "AAKASH BIST",
      "photoUrl": "https://lh3.googleusercontent.com/a-/AOh14GjMwvl_WZO-QgNZIlUAGgb6YRCvjeWY2_J8lW0=s64",
      "userId": "03337911289694550485"
     },
     "user_tz": -330
    },
    "id": "690AQIZRH57A",
    "outputId": "e420aa47-d6df-4806-88ec-0a2930611a6b"
   },
   "outputs": [
    {
     "name": "stdout",
     "output_type": "stream",
     "text": [
      "[394.0572150827156, 394.0572150827156, 394.07214354377993, 394.06390911246285, 394.0436110755387, 394.0369979246891, 394.05096248633095, 394.054770750712, 394.0675165499346, 394.0675165499346, 394.0428871083436, 394.04407143902347, 394.04498322802976, 394.05523330785775, 394.0470500107296, 394.0665998419962, 394.06343058363086, 394.05717004827113, 394.0367977844269, 394.03962125150815, 394.03962125150815, 394.0304068449411, 394.0541711880304, 394.0422193481438, 394.05337655958886, 394.06205481255256, 394.0403284205156, 394.03855622857924, 394.03855622857924, 394.0260455695883, 394.0597922572097, 394.0493166084126, 394.0374947046147, 394.0374947046147, 394.04762200154494, 394.0319224057379, 394.0348854095966, 394.0339827134496, 394.0339827134496, 394.04080582127176]\n",
      "[120.57907059835057, 120.57907059835057, 45.53229929867515, 70.78297860381255, 166.22207913385924, 192.0685600435753, 148.46596812950997, 141.22395084008429, 22.171262175947, 22.171262175947, 156.86491814046673, 148.29113838106582, 135.96033747760117, 117.52230883750526, 127.81825533092814, 30.26653362530272, 47.023542569642984, 98.73214306633696, 175.53901562050947, 139.14500091510726, 139.14500091510726, 152.0062194160772, 85.25229311258165, 113.7923320338124, 111.57366593527178, 45.073756565518, 116.51044659033536, 137.443128980982, 137.443128980982, 148.46663187191785, 23.614430635969725, 104.56505769992208, 106.51594366344132, 106.51594366344132, 97.91567293555008, 123.84661720828673, 116.88068182961733, 116.48853915457151, 116.48853915457151, 96.41904078751682]\n"
     ]
    }
   ],
   "source": [
    "\"\"\"\n",
    "Main function to run NSGA-II optimistation on Robotic Arm\n",
    "\"\"\"\n",
    "\n",
    "solution = initPop(pop_size) #initialize the first population\n",
    "max_gen = 1\n",
    "gen = 0\n",
    "while(gen < max_gen):\n",
    "  f1_values = [get_fitness(solution[i],flag=True) for i in range(pop_size)]\n",
    "  f2_values = [get_fitness(solution[i],flag=False) for i in range(pop_size)]\n",
    "\n",
    "  #return a 2D list of fronts, front[0] is non dominated\n",
    "  sorted_fronts = Non_dominated_sorting(f1_values,f2_values) \n",
    "\n",
    "  #calculate crowding distance values in each front\n",
    "  crowding_dist_values = []\n",
    "  for i in range(len(sorted_fronts)):\n",
    "    crowding_dist_values.append(crowding_dist(sorted_fronts[i],f1_values,f2_values))\n",
    "  \n",
    "  solution2 = solution[:]\n",
    "\n",
    "  #generate offspring and create an extended population with parents\n",
    "  while(len(solution2)!=2*pop_size):\n",
    "    a1 = np.random.randint(0,pop_size-1)\n",
    "    b1 = np.random.randint(0,pop_size-1)\n",
    "    #create an offspring by selecting two parents randomly\n",
    "    solution2.append(crossover(solution[a1],solution[b1]))\n",
    "  \n",
    "  #calc fitness values for extended population\n",
    "  f1_values2 = [get_fitness(solution2[i],flag = True) for i in range(pop_size)]\n",
    "  f2_values2 = [get_fitness(solution2[i],flag = False ) for i in range(pop_size)]\n",
    "  \n",
    "  #non dominated sorted fronts for child population\n",
    "  sorted_fronts2 = Non_dominated_sorting(f1_values2,f2_values2)\n",
    "  \n",
    "  #calculate crowding dist for second population\n",
    "  crowding_dist_values2 = []\n",
    "\n",
    "  for i in range(len(sorted_fronts2)):\n",
    "    crowding_dist_values2.append(crowding_dist(sorted_fronts2[i],f1_values2,f2_values2))\n",
    "\n",
    "  best_selected = [] #best P from population of 2P individuals\n",
    "  for i in range(len(sorted_fronts2)):\n",
    "    front_indexes = [j for j in range(len(sorted_fronts2[i]))]\n",
    "    sorted_front_indexes = get_sorted(front_indexes,crowding_dist_values2[i])\n",
    "\n",
    "    front = [sorted_fronts2[i][sorted_front_indexes[h]] for h in range(len(sorted_front_indexes))]\n",
    "    #reverse the front since the indexes got sorted in ascending order\n",
    "    #while we need the solutions with large crowding distance\n",
    "    front.reverse()\n",
    "    \n",
    "    for val in front:\n",
    "      if(len(best_selected) >= pop_size):\n",
    "        break\n",
    "      best_selected.append(val)\n",
    "    \n",
    "    if(len(best_selected) >= pop_size):\n",
    "        break\n",
    "\n",
    "  solution = [solution2[i] for i in best_selected]\n",
    "  fitness1 = [get_fitness(solution[i],flag = True) for i in range(pop_size)]\n",
    "  fitness2 = [get_fitness(solution[i],flag = False) for i in range(pop_size)]\n",
    "  print(fitness1)\n",
    "  print(fitness2)\n",
    "  gen+=1\n",
    "\n",
    "\n",
    "\n"
   ]
  },
  {
   "cell_type": "code",
   "execution_count": 116,
   "metadata": {
    "colab": {
     "base_uri": "https://localhost:8080/",
     "height": 1000
    },
    "colab_type": "code",
    "executionInfo": {
     "elapsed": 1069,
     "status": "ok",
     "timestamp": 1594986427563,
     "user": {
      "displayName": "AAKASH BIST",
      "photoUrl": "https://lh3.googleusercontent.com/a-/AOh14GjMwvl_WZO-QgNZIlUAGgb6YRCvjeWY2_J8lW0=s64",
      "userId": "03337911289694550485"
     },
     "user_tz": -330
    },
    "id": "XtlVp0VJmWTP",
    "outputId": "840cdffb-a884-4407-b057-93d64d894633"
   },
   "outputs": [
    {
     "data": {
      "text/plain": [
       "[[[237.50644181564155, 45.8300674847994, 14.227645406067785],\n",
       "  [341.80522344537985, 2.6441908186231933, 22.46987814014742]],\n",
       " [[237.50644181564155, 45.8300674847994, 14.227645406067785],\n",
       "  [341.80522344537985, 2.6441908186231933, 22.46987814014742]],\n",
       " [[292.5734775715256, 9.033533270618483, 35.134350298518136],\n",
       "  [213.13297497518244, 3.414521623270339, 37.29887069414279]],\n",
       " [[271.8277919410034, 16.48482993292692, 38.64083727301908],\n",
       "  [178.69650650861072, 9.713648488637528, 29.04274206955672]],\n",
       " [[178.1465057178877, 40.19475886814302, 3.1177732518984036],\n",
       "  [75.7440895263434, 37.734597948014816, 48.68853594815672]],\n",
       " [[248.2601906380389, 44.66454600847261, 33.73612113696355],\n",
       "  [280.6117280341463, 40.583398180841414, 34.134308210654254]],\n",
       " [[129.12714462900524, 45.07381837046891, 43.9744239432044],\n",
       "  [136.7058540128422, 23.740535576435807, 33.470586043171316]],\n",
       " [[151.53768424536358, 46.69856565509637, 34.18301261900494],\n",
       "  [96.43547831249431, 18.856281542646098, 37.47887740391762]],\n",
       " [[221.59518942701243, 1.7757242611253998, 16.952552107039693],\n",
       "  [155.8172550694363, 1.6069777459359835, 19.94910986187713]],\n",
       " [[221.59518942701243, 1.7757242611253998, 16.952552107039693],\n",
       "  [155.8172550694363, 1.6069777459359835, 19.94910986187713]],\n",
       " [[248.2601906380389, 44.66454600847261, 33.73612113696355],\n",
       "  [229.44695248821583, 24.02160035775675, 16.449679841493754]],\n",
       " [[94.14062537462465, 30.659476706932626, 45.761751263206904],\n",
       "  [244.31922441297309, 36.59140499187583, 33.03395424266003]],\n",
       " [[282.10924511569846, 30.30728498059485, 36.3486301550333],\n",
       "  [146.11051904228233, 28.93249776554082, 21.949212171525467]],\n",
       " [[240.70137833402794, 39.978594754205254, 39.42454490976629],\n",
       "  [270.28281736853864, 8.359865134532358, 16.442000502143312]],\n",
       " [[282.10924511569846, 29.660883371010357, 36.3486301550333],\n",
       "  [6.608293406871812, 27.925652262789356, 22.608918536026838]],\n",
       " [[159.3405933807149, 2.5668896854603886, 29.39999656127648],\n",
       "  [200.25692488444076, 5.232819639907254, 22.055132973789178]],\n",
       " [[184.91844453074626, 10.126548371996696, 3.668347066761579],\n",
       "  [341.80522344537985, 2.6441908186231933, 22.46987814014742]],\n",
       " [[282.10924511569846, 30.30728498059485, 36.3486301550333],\n",
       "  [270.3312202063598, 7.788099545888782, 16.442000502143312]],\n",
       " [[49.157782081482715, 39.87220818342142, 21.716139179395867],\n",
       "  [280.6117280341463, 41.18138724749173, 34.134308210654254]],\n",
       " [[0.4279072798586858, 25.258926660049774, 26.609224254122044],\n",
       "  [43.99808591203481, 42.9177171500557, 30.850033895975486]],\n",
       " [[0.4279072798586858, 25.258926660049774, 26.609224254122044],\n",
       "  [43.99808591203481, 42.9177171500557, 30.850033895975486]],\n",
       " [[278.5150297827256, 29.2546192958137, 25.21539632378403],\n",
       "  [58.72534882495695, 39.858955579481304, 3.3586712841472965]],\n",
       " [[221.59518942701243, 1.7757242611253998, 16.952552107039693],\n",
       "  [237.58422421407707, 31.484609035007832, 43.871423893224396]],\n",
       " [[213.01773831481947, 22.737982251193316, 20.31143461330105],\n",
       "  [182.41525750241212, 26.088197803441247, 8.897546162325865]],\n",
       " [[187.1750591678137, 15.902794586418867, 34.61231753893406],\n",
       "  [237.58422421407707, 31.223844071844113, 43.871423893224396]],\n",
       " [[87.95648807295235, 7.430441824013695, 34.889347266623915],\n",
       "  [271.20114383093033, 7.788099545888782, 16.442000502143312]],\n",
       " [[234.09064825215154, 0.5287352751094987, 28.574944928021605],\n",
       "  [204.2740657326949, 48.78378235288407, 34.84693628133976]],\n",
       " [[319.13824742662587, 17.199030921446436, 13.418408596386723],\n",
       "  [268.97826740144177, 39.52103270543397, 26.83185577401076]],\n",
       " [[319.13824742662587, 17.199030921446436, 13.418408596386723],\n",
       "  [268.97826740144177, 39.52103270543397, 26.83185577401076]],\n",
       " [[158.22573351967898, 17.831730687302883, 7.372294522797429],\n",
       "  [293.9801958514192, 47.17894911306503, 8.25268299064411]],\n",
       " [[203.35575314732046, 0.9149902329687931, 28.330914976284895],\n",
       "  [31.059091968529493, 6.103306675273173, 0.7553908321227931]],\n",
       " [[339.3733195759014, 16.527209926222685, 44.70335157978104],\n",
       "  [229.44695248821583, 24.147081946926228, 16.449679841493754]],\n",
       " [[209.42825366998795, 4.132617832259195, 39.87956312694959],\n",
       "  [33.82271860212676, 43.95622255384662, 12.298705825908224]],\n",
       " [[209.42825366998795, 4.132617832259195, 39.87956312694959],\n",
       "  [33.82271860212676, 43.95622255384662, 12.298705825908224]],\n",
       " [[343.1576013350884, 0.37779353028158935, 26.503832598191853],\n",
       "  [244.31922441297309, 36.59140499187583, 33.03395424266003]],\n",
       " [[326.8048974080433, 1.4338963854847286, 38.15855017486243],\n",
       "  [321.05822925528565, 47.27153614190508, 8.72138757742782]],\n",
       " [[115.48476693752002, 15.000272936166803, 14.151832745846033],\n",
       "  [113.32011504597608, 38.771410379193796, 8.929619045944687]],\n",
       " [[115.48476693752002, 15.000272936166803, 14.151832745846033],\n",
       "  [242.85584794849535, 35.936494690799556, 3.2918959830898764]],\n",
       " [[115.48476693752002, 15.000272936166803, 14.151832745846033],\n",
       "  [242.85584794849535, 35.936494690799556, 3.2918959830898764]],\n",
       " [[184.91844453074626, 10.126548371996696, 3.668347066761579],\n",
       "  [112.4449834070384, 32.01156433167868, 12.77010476953359]]]"
      ]
     },
     "execution_count": 116,
     "metadata": {
      "tags": []
     },
     "output_type": "execute_result"
    }
   ],
   "source": [
    "solution"
   ]
  },
  {
   "cell_type": "code",
   "execution_count": 115,
   "metadata": {
    "colab": {},
    "colab_type": "code",
    "executionInfo": {
     "elapsed": 1128,
     "status": "ok",
     "timestamp": 1594986419776,
     "user": {
      "displayName": "AAKASH BIST",
      "photoUrl": "https://lh3.googleusercontent.com/a-/AOh14GjMwvl_WZO-QgNZIlUAGgb6YRCvjeWY2_J8lW0=s64",
      "userId": "03337911289694550485"
     },
     "user_tz": -330
    },
    "id": "_Uw1sYN95iKb"
   },
   "outputs": [],
   "source": [
    "\"\"\"\n",
    "Testing the best solution\n",
    "\"\"\"\n",
    "sol = [[157.13575295411923, 26.514295346340873, 49.107306373231424],\n",
    "  [7.295850203634651, 23.90932819405398, 9.191620149891046]]\n",
    "# sol = GenerateIndividual()\n",
    "theta,torque,velocity = pid(sol,theta_des1,theta_des2,theta_dot_des1,theta_dot_des2,time_interval)"
   ]
  },
  {
   "cell_type": "code",
   "execution_count": 119,
   "metadata": {
    "colab": {
     "base_uri": "https://localhost:8080/",
     "height": 513
    },
    "colab_type": "code",
    "executionInfo": {
     "elapsed": 1388,
     "status": "ok",
     "timestamp": 1594986952198,
     "user": {
      "displayName": "AAKASH BIST",
      "photoUrl": "https://lh3.googleusercontent.com/a-/AOh14GjMwvl_WZO-QgNZIlUAGgb6YRCvjeWY2_J8lW0=s64",
      "userId": "03337911289694550485"
     },
     "user_tz": -330
    },
    "id": "7F3D1QoLUv-R",
    "outputId": "98dbc59e-3745-4b39-cf34-b20381fef45c"
   },
   "outputs": [
    {
     "data": {
      "image/png": "[encoded data removed]",
      "text/plain": [
       "<Figure size 720x576 with 1 Axes>"
      ]
     },
     "metadata": {
      "needs_background": "light",
      "tags": []
     },
     "output_type": "display_data"
    }
   ],
   "source": [
    "plt.plot(time_interval, theta[0], color='lightcoral' ,label='theta_1' )\n",
    "plt.plot(time_interval, theta[1], color='#4b0082' ,label='theta_2')\n",
    "plt.legend()\n",
    "plt.title('Theta vs Time')\n",
    "plt.ylabel('position')\n",
    "plt.xlabel('time')\n",
    "plt.show()"
   ]
  },
  {
   "cell_type": "code",
   "execution_count": 101,
   "metadata": {
    "colab": {
     "base_uri": "https://localhost:8080/",
     "height": 513
    },
    "colab_type": "code",
    "executionInfo": {
     "elapsed": 1486,
     "status": "ok",
     "timestamp": 1594986112362,
     "user": {
      "displayName": "AAKASH BIST",
      "photoUrl": "https://lh3.googleusercontent.com/a-/AOh14GjMwvl_WZO-QgNZIlUAGgb6YRCvjeWY2_J8lW0=s64",
      "userId": "03337911289694550485"
     },
     "user_tz": -330
    },
    "id": "O9m2WRJStO_K",
    "outputId": "d81620b4-f37a-49a4-af70-b2d0357f314f"
   },
   "outputs": [
    {
     "data": {
      "image/png": "[encoded data removed]",
      "text/plain": [
       "<Figure size 720x576 with 1 Axes>"
      ]
     },
     "metadata": {
      "needs_background": "light",
      "tags": []
     },
     "output_type": "display_data"
    }
   ],
   "source": [
    "plt.plot(time_interval, -torque[0], color='lightcoral' ,label='Torque_1' )\n",
    "plt.plot(time_interval, -torque[1], color='#4b0082' ,label='Torque_2')\n",
    "plt.legend()\n",
    "plt.title('torque vs Time')\n",
    "plt.ylabel('torque')\n",
    "plt.xlabel('time')\n",
    "plt.show()"
   ]
  },
  {
   "cell_type": "code",
   "execution_count": null,
   "metadata": {
    "colab": {},
    "colab_type": "code",
    "executionInfo": {
     "elapsed": 6498,
     "status": "aborted",
     "timestamp": 1594985994886,
     "user": {
      "displayName": "AAKASH BIST",
      "photoUrl": "https://lh3.googleusercontent.com/a-/AOh14GjMwvl_WZO-QgNZIlUAGgb6YRCvjeWY2_J8lW0=s64",
      "userId": "03337911289694550485"
     },
     "user_tz": -330
    },
    "id": "V2fp2x2pQX6N"
   },
   "outputs": [],
   "source": []
  }
 ],
 "metadata": {
  "colab": {
   "collapsed_sections": [],
   "name": "IIC_Project.ipynb",
   "provenance": []
  },
  "kernelspec": {
   "display_name": "Python 3",
   "language": "python",
   "name": "python3"
  },
  "language_info": {
   "codemirror_mode": {
    "name": "ipython",
    "version": 3
   },
   "file_extension": ".py",
   "mimetype": "text/x-python",
   "name": "python",
   "nbconvert_exporter": "python",
   "pygments_lexer": "ipython3",
   "version": "3.7.3"
  }
 },
 "nbformat": 4,
 "nbformat_minor": 1
}
